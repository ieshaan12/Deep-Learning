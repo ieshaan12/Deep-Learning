{
 "cells": [
  {
   "cell_type": "code",
   "execution_count": 1,
   "metadata": {},
   "outputs": [],
   "source": [
    "import numpy as np\n",
    "import tensorflow as tf"
   ]
  },
  {
   "cell_type": "code",
   "execution_count": 16,
   "metadata": {},
   "outputs": [
    {
     "name": "stdout",
     "output_type": "stream",
     "text": [
      "0.0\n"
     ]
    }
   ],
   "source": [
    "coeff = np.array([[1.],[-10.],[25.]])\n",
    "\n",
    "x = tf.placeholder(dtype = tf.float32, shape = [3,1])\n",
    "\n",
    "w = tf.Variable(0,dtype = tf.float32)\n",
    "\n",
    "#cost = tf.add(tf.add(w**2,tf.multiply(-10.,w)),25)\n",
    "#cost = w**2 -10*w + 25\n",
    "\n",
    "cost = x[0][0] * w**2 + x[1][0] * w + x[2][0] \n",
    "train = tf.train.GradientDescentOptimizer(0.01).minimize(cost)\n",
    "\n",
    "init = tf.global_variables_initializer()\n",
    "session = tf.Session()\n",
    "session.run(init)\n",
    "print(session.run(w))"
   ]
  },
  {
   "cell_type": "code",
   "execution_count": null,
   "metadata": {},
   "outputs": [],
   "source": []
  },
  {
   "cell_type": "code",
   "execution_count": 20,
   "metadata": {},
   "outputs": [
    {
     "name": "stdout",
     "output_type": "stream",
     "text": [
      "Value, at 1th running of the training\n",
      "4.9999886\n",
      "Value, at 2th running of the training\n",
      "4.9999886\n",
      "Value, at 3th running of the training\n",
      "4.9999886\n",
      "Value, at 4th running of the training\n",
      "4.9999886\n",
      "Value, at 5th running of the training\n",
      "4.9999886\n",
      "Value, at 6th running of the training\n",
      "4.9999886\n",
      "Value, at 7th running of the training\n",
      "4.9999886\n",
      "Value, at 8th running of the training\n",
      "4.9999886\n",
      "Value, at 9th running of the training\n",
      "4.9999886\n",
      "Value, at 10th running of the training\n",
      "4.9999886\n"
     ]
    }
   ],
   "source": [
    "for i in range(10):\n",
    "    session.run(train, feed_dict={x:coeff})\n",
    "    if (i+1) % 1 == 0:    \n",
    "        print(\"Value, at {}th running of the training\".format(i+1))\n",
    "        print(session.run(w))\n"
   ]
  },
  {
   "cell_type": "code",
   "execution_count": 6,
   "metadata": {},
   "outputs": [
    {
     "data": {
      "text/plain": [
       "0"
      ]
     },
     "execution_count": 6,
     "metadata": {},
     "output_type": "execute_result"
    }
   ],
   "source": [
    "0"
   ]
  },
  {
   "cell_type": "code",
   "execution_count": null,
   "metadata": {},
   "outputs": [],
   "source": []
  }
 ],
 "metadata": {
  "kernelspec": {
   "display_name": "Python 3",
   "language": "python",
   "name": "python3"
  },
  "language_info": {
   "codemirror_mode": {
    "name": "ipython",
    "version": 3
   },
   "file_extension": ".py",
   "mimetype": "text/x-python",
   "name": "python",
   "nbconvert_exporter": "python",
   "pygments_lexer": "ipython3",
   "version": "3.6.7"
  }
 },
 "nbformat": 4,
 "nbformat_minor": 2
}
